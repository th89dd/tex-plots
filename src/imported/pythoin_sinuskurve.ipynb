{
 "cells": [
  {
   "cell_type": "code",
   "execution_count": 1,
   "id": "initial_id",
   "metadata": {
    "collapsed": true,
    "ExecuteTime": {
     "end_time": "2024-03-19T11:16:32.258566Z",
     "start_time": "2024-03-19T11:16:31.654304Z"
    }
   },
   "outputs": [],
   "source": [
    "from PlotBase import *"
   ]
  },
  {
   "cell_type": "code",
   "outputs": [
    {
     "data": {
      "text/plain": "(5.7874021032240215, 3.576811206355073)"
     },
     "execution_count": 2,
     "metadata": {},
     "output_type": "execute_result"
    }
   ],
   "source": [
    "textwidth = 418.25555\n",
    "# textwidth = 455.24417pt\n",
    "calc_figsize(418.25555)"
   ],
   "metadata": {
    "collapsed": false,
    "ExecuteTime": {
     "end_time": "2024-03-19T11:16:32.266086Z",
     "start_time": "2024-03-19T11:16:32.260087Z"
    }
   },
   "id": "7a1dba8e0c2bf047",
   "execution_count": 2
  },
  {
   "cell_type": "code",
   "outputs": [],
   "source": [
    "fig, ax = plt.subplots(figsize=calc_figsize(0.8*textwidth))\n",
    "x = np.linspace(-2*np.pi, 2*np.pi, 100)\n",
    "y = np.sin(x)\n",
    "\n",
    "ax.plot(x, y, label=r'$f(x) = sin(x)$', color=tudcolors.cddarkblue().rgb_values)\n",
    "ax.set_title('Sinus-Funktion', pad=20)\n",
    "ax.grid(True)  # Ensure grid is visible\n",
    "\n",
    "# Adjusting axis labels to be closer to the arrows\n",
    "# ax.set_xlabel('x', labelpad=10, loc='right')  # Positioning label at the end\n",
    "# ax.set_ylabel('y', labelpad=25, loc='top', rotation=0)  # Positioning label at the end and rotating\n",
    "\n",
    "# Verwenden von Text-Objekten für Achsenbeschriftungen\n",
    "ax.text(1.1 * np.max(x), -0.15, 'x', ha='right', va='center')  # X-Achsenbeschriftung\n",
    "ax.text(0.3, 1.1 * np.max(y), 'y', ha='left', va='center', rotation=0)  # Y-Achsenbeschriftung\n",
    "\n",
    "# Hinzufügen der Legende oben rechts\n",
    "plt.legend(loc='upper right')\n",
    "\n",
    "# Adjusting the tick positions\n",
    "ax.spines['left'].set_position(('data', 0))\n",
    "ax.spines['left'].set_color(tudcolors.cdgray().rgb_values)\n",
    "ax.spines['bottom'].set_position(('data', 0))\n",
    "ax.spines['bottom'].set_color(tudcolors.cdgray().rgb_values)\n",
    "ax.spines['right'].set_color('none')\n",
    "ax.spines['top'].set_color('none')\n",
    "\n",
    "# Adding arrows\n",
    "ax.plot((1), (0), ls=\"\", marker=\">\", ms=10, color=tudcolors.cdgray().rgb_values, transform=ax.get_yaxis_transform(), clip_on=False)\n",
    "ax.plot((0), (1), ls=\"\", marker=\"^\", ms=10, color=tudcolors.cdgray().rgb_values, transform=ax.get_xaxis_transform(), clip_on=False)\n",
    "\n",
    "# Adjust tick positions to the left and bottom\n",
    "ax.yaxis.set_ticks_position('left')\n",
    "ax.xaxis.set_ticks_position('bottom')\n",
    "# Die Farbe der Tick-Labels an den Achsen ändern\n",
    "ax.tick_params(axis='x', colors=tudcolors.cdgray().rgb_values)  # Farbe der X-Achsen-Ticks\n",
    "ax.tick_params(axis='y', colors=tudcolors.cdgray().rgb_values)  # Farbe der Y-Achsen-Ticks\n",
    "\n",
    "# Set x ticks at multiples of pi and apply the custom formatter\n",
    "ax.xaxis.set_major_locator(ticker.MultipleLocator(base=np.pi))\n",
    "# Define a function to format the x-axis labels as multiples of pi\n",
    "def format_func(value, tick_number):\n",
    "    N = int(np.round(value / np.pi))\n",
    "    if N == 0:\n",
    "        return \"0\"\n",
    "    elif N == 1:\n",
    "        return r\"$\\pi$\"\n",
    "    elif N == -1:\n",
    "        return r\"-$\\pi$\"\n",
    "    else:\n",
    "        return r\"${0}\\pi$\".format(N)\n",
    "ax.xaxis.set_major_formatter(ticker.FuncFormatter(format_func))\n",
    "\n",
    "fig.tight_layout()\n",
    "\n",
    "# Speichern der Plots\n",
    "fig.savefig('sinus.pgf')\n",
    "fig.savefig('sinus.pdf')"
   ],
   "metadata": {
    "collapsed": false,
    "ExecuteTime": {
     "end_time": "2024-03-19T11:16:34.542412Z",
     "start_time": "2024-03-19T11:16:32.267086Z"
    }
   },
   "id": "de795f70931c620b",
   "execution_count": 3
  },
  {
   "cell_type": "code",
   "outputs": [],
   "source": [
    "fig, ax = plt.subplots(figsize=calc_figsize(0.45*textwidth))\n",
    "x = np.linspace(-2*np.pi, 2*np.pi, 100)\n",
    "y = np.sin(x)\n",
    "\n",
    "ax.plot(x, y, label=r'$f(x) = sin(x)$', color=tudcolors.cddarkblue().rgb_values)\n",
    "ax.set_title('Sinus-Funktion', pad=20)\n",
    "ax.grid(True)  # Ensure grid is visible\n",
    "\n",
    "# Adjusting axis labels to be closer to the arrows\n",
    "# ax.set_xlabel('x', labelpad=10, loc='right')  # Positioning label at the end\n",
    "# ax.set_ylabel('y', labelpad=25, loc='top', rotation=0)  # Positioning label at the end and rotating\n",
    "\n",
    "# Verwenden von Text-Objekten für Achsenbeschriftungen\n",
    "ax.text(1.1 * np.max(x), -0.15, 'x', ha='right', va='center')  # X-Achsenbeschriftung\n",
    "ax.text(0.3, 1.1 * np.max(y), 'y', ha='left', va='center', rotation=0)  # Y-Achsenbeschriftung\n",
    "\n",
    "# Hinzufügen der Legende oben rechts\n",
    "plt.legend(loc='upper right')\n",
    "\n",
    "# Adjusting the tick positions\n",
    "ax.spines['left'].set_position(('data', 0))\n",
    "ax.spines['left'].set_color(tudcolors.cdgray().rgb_values)\n",
    "ax.spines['bottom'].set_position(('data', 0))\n",
    "ax.spines['bottom'].set_color(tudcolors.cdgray().rgb_values)\n",
    "ax.spines['right'].set_color('none')\n",
    "ax.spines['top'].set_color('none')\n",
    "\n",
    "# Adding arrows\n",
    "ax.plot((1), (0), ls=\"\", marker=\">\", ms=10, color=tudcolors.cdgray().rgb_values, transform=ax.get_yaxis_transform(), clip_on=False)\n",
    "ax.plot((0), (1), ls=\"\", marker=\"^\", ms=10, color=tudcolors.cdgray().rgb_values, transform=ax.get_xaxis_transform(), clip_on=False)\n",
    "\n",
    "# Adjust tick positions to the left and bottom\n",
    "ax.yaxis.set_ticks_position('left')\n",
    "ax.xaxis.set_ticks_position('bottom')\n",
    "# Die Farbe der Tick-Labels an den Achsen ändern\n",
    "ax.tick_params(axis='x', colors=tudcolors.cdgray().rgb_values)  # Farbe der X-Achsen-Ticks\n",
    "ax.tick_params(axis='y', colors=tudcolors.cdgray().rgb_values)  # Farbe der Y-Achsen-Ticks\n",
    "\n",
    "# Set x ticks at multiples of pi and apply the custom formatter\n",
    "ax.xaxis.set_major_locator(ticker.MultipleLocator(base=np.pi))\n",
    "# Define a function to format the x-axis labels as multiples of pi\n",
    "def format_func(value, tick_number):\n",
    "    N = int(np.round(value / np.pi))\n",
    "    if N == 0:\n",
    "        return \"0\"\n",
    "    elif N == 1:\n",
    "        return r\"$\\pi$\"\n",
    "    elif N == -1:\n",
    "        return r\"-$\\pi$\"\n",
    "    else:\n",
    "        return r\"${0}\\pi$\".format(N)\n",
    "ax.xaxis.set_major_formatter(ticker.FuncFormatter(format_func))\n",
    "\n",
    "fig.tight_layout()\n",
    "\n",
    "# Speichern der Plots\n",
    "fig.savefig('sinus_045.pgf')\n",
    "fig.savefig('sinus_045.pdf')"
   ],
   "metadata": {
    "collapsed": false,
    "ExecuteTime": {
     "end_time": "2024-03-19T11:16:35.585303Z",
     "start_time": "2024-03-19T11:16:34.543419Z"
    }
   },
   "id": "5794c4ec55880663",
   "execution_count": 4
  }
 ],
 "metadata": {
  "kernelspec": {
   "display_name": "Python 3",
   "language": "python",
   "name": "python3"
  },
  "language_info": {
   "codemirror_mode": {
    "name": "ipython",
    "version": 2
   },
   "file_extension": ".py",
   "mimetype": "text/x-python",
   "name": "python",
   "nbconvert_exporter": "python",
   "pygments_lexer": "ipython2",
   "version": "2.7.6"
  }
 },
 "nbformat": 4,
 "nbformat_minor": 5
}
